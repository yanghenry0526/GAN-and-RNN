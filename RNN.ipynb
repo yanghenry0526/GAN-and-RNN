{
 "cells": [
  {
   "cell_type": "code",
   "execution_count": 26,
   "id": "ea088eca",
   "metadata": {},
   "outputs": [
    {
     "name": "stdout",
     "output_type": "stream",
     "text": [
      "62/62 [==============================] - 3s 56ms/step - loss: 0.0091\n",
      "WARNING:tensorflow:7 out of the last 7 calls to <function Model.make_predict_function.<locals>.predict_function at 0x000001BBA7498C18> triggered tf.function retracing. Tracing is expensive and the excessive number of tracings could be due to (1) creating @tf.function repeatedly in a loop, (2) passing tensors with different shapes, (3) passing Python objects instead of tensors. For (1), please define your @tf.function outside of the loop. For (2), @tf.function has experimental_relax_shapes=True option that relaxes argument shapes that can avoid unnecessary retracing. For (3), please refer to https://www.tensorflow.org/tutorials/customization/performance#python_or_tensor_args and https://www.tensorflow.org/api_docs/python/tf/function for  more details.\n"
     ]
    },
    {
     "data": {
      "image/png": "[encoded data removed]",
      "text/plain": [
       "<Figure size 432x288 with 1 Axes>"
      ]
     },
     "metadata": {
      "needs_background": "light"
     },
     "output_type": "display_data"
    }
   ],
   "source": [
    "import pandas as pd\n",
    "import numpy as np\n",
    "import matplotlib.pyplot as plt\n",
    "from sklearn.preprocessing import MinMaxScaler\n",
    "from tensorflow.keras.models import Sequential\n",
    "from tensorflow.keras.layers import Dense\n",
    "from tensorflow.keras.layers import LSTM\n",
    "from tensorflow.keras.layers import Dropout\n",
    "\n",
    "dataset_train = pd.read_csv('NSE-TATAGLOBAL.csv')\n",
    "trainning_set = dataset_train.iloc[:, 1:2].values #iolc讀其中一個欄位\n",
    "dataset_train.head()\n",
    "sc = MinMaxScaler(feature_range = (0 , 1)) #0-1的範圍\n",
    "training_set_scaled = sc.fit_transform(trainning_set)\n",
    "# print(training_set_scaled[0])\n",
    "\n",
    "x_train = []\n",
    "y_train = []\n",
    "for i in range(60,2035): #過去60天資料有2035筆\n",
    "    x_train.append(training_set_scaled[i-60:i , 0])\n",
    "    y_train.append(training_set_scaled[i , 0])\n",
    "\n",
    "x_train = np.array(x_train)\n",
    "y_train = np.array(y_train)\n",
    "# print(x_train.shape[0])  1975天\n",
    "# print(x_train.shape[1])\n",
    "x_train = np.reshape(x_train,(1975,60,1))\n",
    "# print(x_train[100])\n",
    "# print(y_train[100])\n",
    "\n",
    "model = Sequential()\n",
    "model.add(LSTM(units = 50, return_sequences=True , input_shape=(60,1)))\n",
    "model.add(Dropout(0.2))\n",
    "\n",
    "model.add(LSTM(units = 50, return_sequences=True))\n",
    "model.add(Dropout(0.2))\n",
    "\n",
    "model.add(LSTM(units = 50 )) #不加return_sequences 預設false\n",
    "model.add(Dropout(0.2))\n",
    "\n",
    "model.add(Dense(units=1))\n",
    "\n",
    "model.compile(optimizer='adam' , loss='mean_squared_error')\n",
    "model.fit(x_train,y_train,epochs=1,batch_size=32)\n",
    "\n",
    "dataset_test = pd.read_csv('tatatest.csv')\n",
    "real_stock_price = datase_test.iloc[:,1:2].values  #第一第二列\n",
    "data_total = pd.concat((dataset_train['Open'],dataset_test['Open']), axis = 0)\n",
    "inputs = data_total[len(data_total) - len(dataset_test) - 60:].values\n",
    "# print(data_total.shape[0])\n",
    "inputs = inputs.reshape(-1,1)\n",
    "# print(inputs.shape[0])\n",
    "inputs = sc.transform(inputs)\n",
    "# print(inputs.shape[0])\n",
    "x_test = []\n",
    "\n",
    "for i in range(60,76):\n",
    "    x_test.append(inputs[i-60:i,0])\n",
    "x_test = np.array(x_test)\n",
    "# print(x_test.shape[0])   16\n",
    "# print(x_test.shape[1])   60\n",
    "\n",
    "x_test = np.reshape(x_test,(16,60,1))\n",
    "predicted_stock_value = model.predict(x_test)\n",
    "predicted_stock_value = sc.inverse_transform(predicted_stock_value)\n",
    "\n",
    "# print(real_stock_price)\n",
    "# print(predicted_stock_value)\n",
    "\n",
    "plt.plot(real_stock_price,color = 'black' , label='REAL')\n",
    "plt.plot(predicted_stock_value , color = 'blue' , label='PREDICTED')\n",
    "plt.title('STOCK')\n",
    "plt.xlabel('DATE')\n",
    "plt.ylabel('PRICE')\n",
    "plt.legend()\n",
    "plt.show()"
   ]
  },
  {
   "cell_type": "code",
   "execution_count": null,
   "id": "d1385935",
   "metadata": {},
   "outputs": [],
   "source": []
  },
  {
   "cell_type": "code",
   "execution_count": null,
   "id": "b26c8091",
   "metadata": {},
   "outputs": [],
   "source": []
  }
 ],
 "metadata": {
  "kernelspec": {
   "display_name": "Python 3 (ipykernel)",
   "language": "python",
   "name": "python3"
  },
  "language_info": {
   "codemirror_mode": {
    "name": "ipython",
    "version": 3
   },
   "file_extension": ".py",
   "mimetype": "text/x-python",
   "name": "python",
   "nbconvert_exporter": "python",
   "pygments_lexer": "ipython3",
   "version": "3.7.13"
  }
 },
 "nbformat": 4,
 "nbformat_minor": 5
}
